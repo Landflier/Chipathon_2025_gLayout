{
 "cells": [
  {
   "cell_type": "code",
   "execution_count": 1,
   "id": "2fb8aa80",
   "metadata": {},
   "outputs": [
    {
     "data": {
      "text/html": [
       "<pre style=\"white-space:pre;overflow-x:auto;line-height:normal;font-family:Menlo,'DejaVu Sans Mono',consolas,'Courier New',monospace\"></pre>\n"
      ],
      "text/plain": []
     },
     "metadata": {},
     "output_type": "display_data"
    },
    {
     "data": {
      "text/html": [
       "<pre style=\"white-space:pre;overflow-x:auto;line-height:normal;font-family:Menlo,'DejaVu Sans Mono',consolas,'Courier New',monospace\"></pre>\n"
      ],
      "text/plain": []
     },
     "metadata": {},
     "output_type": "display_data"
    }
   ],
   "source": [
    "from glayout import gf180\n",
    "from glayout.primitives import resistor"
   ]
  },
  {
   "cell_type": "code",
   "execution_count": 3,
   "id": "6734fda6",
   "metadata": {},
   "outputs": [
    {
     "data": {
      "text/plain": [
       "0.48947695182601014"
      ]
     },
     "execution_count": 3,
     "metadata": {},
     "output_type": "execute_result"
    }
   ],
   "source": [
    "from pygmid import Lookup as lk\n",
    "\n",
    "p = lk('Chipathon2025/lookup_tables/pfet_03v3.mat')\n",
    "id = 50e-6 # this is bias current\n",
    "l = 0.28\n",
    "jd = p.lookup('ID_W', GM_ID=1, L=l)\n",
    "w = id/jd\n",
    "w"
   ]
  },
  {
   "cell_type": "code",
   "execution_count": null,
   "id": "081790b3",
   "metadata": {},
   "outputs": [],
   "source": [
    "resistor_component = resistor(\n",
    "    pdk=gf180,\n",
    "    width=0.5, # minimum width  is 0.5um\n",
    "    length=l,\n",
    "    num_series=1,\n",
    ")"
   ]
  },
  {
   "cell_type": "code",
   "execution_count": null,
   "id": "403d63d7",
   "metadata": {},
   "outputs": [],
   "source": []
  }
 ],
 "metadata": {
  "kernelspec": {
   "display_name": "GLdev",
   "language": "python",
   "name": "gldev"
  }
 },
 "nbformat": 4,
 "nbformat_minor": 5
}
