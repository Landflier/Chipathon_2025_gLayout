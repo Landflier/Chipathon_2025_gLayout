{
 "cells": [
  {
   "cell_type": "code",
   "execution_count": 7,
   "metadata": {},
   "outputs": [],
   "source": [
    "import numpy as np\n",
    "import pandas as pd\n",
    "from pygmid import Lookup as lk\n",
    "import scipy.constants as cs"
   ]
  },
  {
   "cell_type": "markdown",
   "metadata": {},
   "source": [
    "![Gilbert cell Topology](img/topology_Gilbert_Cell.png)"
   ]
  },
  {
   "cell_type": "markdown",
   "metadata": {},
   "source": [
    "![diff_pair](img/diff_pair.png)"
   ]
  },
  {
   "cell_type": "markdown",
   "metadata": {},
   "source": [
    "#### Technology data"
   ]
  },
  {
   "cell_type": "code",
   "execution_count": 8,
   "metadata": {},
   "outputs": [],
   "source": [
    "n = lk('./nfet_03v3.mat')\n",
    "p = lk('./pfet_03v3.mat')"
   ]
  },
  {
   "cell_type": "markdown",
   "metadata": {},
   "source": [
    "#### Specifications"
   ]
  },
  {
   "cell_type": "code",
   "execution_count": 112,
   "metadata": {},
   "outputs": [],
   "source": [
    "f_rf = 89 * cs.mega\n",
    "f_lo = 100 * cs.mega\n",
    "NF = 9 # [dB], baseband integrated from 1K to 100MHz\n",
    "VDD = 3.3 # [V]\n",
    "conversion_gain = 15 # [db], 20log10 (V_out / V_rf)\n",
    "IIP2 = 40 # [dBm]\n",
    "IIP3 = 8 # [dBm], using 2 tones at 2.4 GHz and 2.401 GHz\n",
    "I0= 50e-6 # [uA] = I1"
   ]
  },
  {
   "cell_type": "markdown",
   "metadata": {},
   "source": [
    "#### Design choices"
   ]
  },
  {
   "cell_type": "code",
   "execution_count": 113,
   "metadata": {},
   "outputs": [],
   "source": [
    "l = 0.28\n",
    "gm_id_dp_rf = np.array([12, 12])\n",
    "gm_id_dp_lo = np.array([15, 15])\n",
    "\n",
    "gm_rf = gm_id_dp_rf * I0\n",
    "gm_lo = gm_id_dp_lo * I0/2"
   ]
  },
  {
   "cell_type": "markdown",
   "metadata": {},
   "source": [
    "#### Sizing and benchmarking"
   ]
  },
  {
   "cell_type": "markdown",
   "metadata": {},
   "source": [
    "![IIP3_req](img/IIP3_requirement_formula.png)"
   ]
  },
  {
   "cell_type": "code",
   "execution_count": 114,
   "metadata": {},
   "outputs": [],
   "source": [
    "jd_rf = n.lookup('ID_W', GM_ID=gm_id_dp_rf, L=l)\n",
    "jd_lo = n.lookup('ID_W', GM_ID=gm_id_dp_lo, L=l)"
   ]
  },
  {
   "cell_type": "code",
   "execution_count": 115,
   "metadata": {},
   "outputs": [
    {
     "name": "stdout",
     "output_type": "stream",
     "text": [
      "12 0.0006000000000000001 5e-05 4.296084627443789e-06 11.63850443741153 7.6784943697789405\n",
      "15 0.000375 5e-05 2.0974817168268422e-06 23.83811005306024 2.4458544133961806\n"
     ]
    }
   ],
   "source": [
    "w_rf = I0 / jd_rf \n",
    "w_lo = I0 / jd_lo\n",
    "\n",
    "cgg_w_rf = n.lookup('CGG_W', GM_ID=gm_id_dp_rf, L=l)\n",
    "cgg_rf = w_rf*cgg_w_rf\n",
    "ft_rf = gm_rf/cgg_rf/2/np.pi\n",
    "\n",
    "cgg_w_lo = n.lookup('CGG_W', GM_ID=gm_id_dp_lo, L=l)\n",
    "cgg_lo = w_lo*cgg_w_lo\n",
    "ft_lo = gm_lo/cgg_lo/2/np.pi\n",
    "\n",
    "\n",
    "for i in range(1):\n",
    "    print (gm_id_dp_rf[i], gm_rf[i], I0, jd_rf[i], w_rf[i], ft_rf[i]/1e9)\n",
    "    print (gm_id_dp_lo[i], gm_lo[i], I0, jd_lo[i], w_lo[i], ft_lo[i]/1e9)"
   ]
  },
  {
   "cell_type": "code",
   "execution_count": 116,
   "metadata": {},
   "outputs": [
    {
     "name": "stdout",
     "output_type": "stream",
     "text": [
      "            option1       option2       option3\n",
      "RS      1000.000000  10000.000000  100000.00000\n",
      "A_IIP3    23.671875     30.993625      44.33315\n"
     ]
    }
   ],
   "source": [
    "RS = [1e3, 10e3, 100e3]\n",
    "A_IIP3 = np.full_like(RS, 0)\n",
    "for i in range(3):\n",
    "    A_IIP3[i] = 2*I0 / 3 * np.sqrt(gm_rf[0] * (RS[i]+2/gm_rf[0])**3) # Watts\n",
    "    A_IIP3[i] = 10 * np.log10(A_IIP3[i]/1e-3) # dBm\n",
    "df = pd.DataFrame([RS, A_IIP3 ], ['RS', 'A_IIP3'], columns = ['option1', 'option2', 'option3'])\n",
    "print(df) "
   ]
  },
  {
   "cell_type": "markdown",
   "metadata": {},
   "source": [
    "#### Spice validation"
   ]
  },
  {
   "cell_type": "code",
   "execution_count": 64,
   "metadata": {},
   "outputs": [
    {
     "name": "stdout",
     "output_type": "stream",
     "text": [
      "Overwriting ./sizing_diffpair.spice\n"
     ]
    }
   ],
   "source": [
    "%%writefile ./sizing_diffpair.spice\n",
    "** differential pair sizing example\n",
    "\n",
    "*.lib /foss/pdks/gf180mcuD/libs.tech/ngspice/sm141064.ngspice typical\n",
    "*.inc /foss/pdks/gf180mcuD/libs.tech/ngspice/design.ngspice\n",
    "\n",
    "* updated models that allow finger parameterization\n",
    ".lib ../models_updated_2025.07.19/ngspice/sm141064.ngspice typical\n",
    ".inc ../models_updated_2025.07.19/ngspice/design.ngspice\n",
    "\n",
    ".param lx=0.28e-6 wx=146e-6 nfx=30, idx=1e-3\n",
    "\n",
    "XM1a d g s 0 nfet_03v3 L={lx} W={wx} nf={nfx} ad='int((nf+1)/2) * W/nf * 0.18u' as='int((nf+2)/2) * W/nf * 0.18u' pd='2*int((nf+1)/2) * (W/nf + 0.18u)'\n",
    "+ ps='2*int((nf+2)/2) * (W/nf + 0.18u)' nrd='0.18u / W' nrs='0.18u / W' sa=0 sb=0 sd=0 m=1\n",
    "XM1b d g s 0 nfet_03v3 L={lx} W={wx} nf={nfx} ad='int((nf+1)/2) * W/nf * 0.18u' as='int((nf+2)/2) * W/nf * 0.18u' pd='2*int((nf+1)/2) * (W/nf + 0.18u)'\n",
    "+ ps='2*int((nf+2)/2) * (W/nf + 0.18u)' nrd='0.18u / W' nrs='0.18u / W' sa=0 sb=0 sd=0 m=1\n",
    "vg  g  0  1\n",
    "vd  d  0  2\n",
    "is  s  0  {2*idx}\n",
    "\n",
    ".control\n",
    "  op\n",
    "  show\n",
    "  save @m.xM1a.m0[gm]\n",
    "  save @m.xM1a.m0[cgg]\n",
    "  save @m.xM1a.m0[cgso]\n",
    "  save @m.xM1a.m0[cgdo]\n",
    "\n",
    "  print @m.xM1a.m0[gm]\n",
    "  print @m.xM1a.m0[cgg]\n",
    "  print @m.xM1a.m0[cgso]\n",
    "  print @m.xM1a.m0[cgdo]\n",
    "    \n",
    ".endc\n",
    ".end"
   ]
  },
  {
   "cell_type": "code",
   "execution_count": 8,
   "metadata": {},
   "outputs": [
    {
     "name": "stdout",
     "output_type": "stream",
     "text": [
      "/bin/bash: line 1: /foss/tools/bin/ngspice: No such file or directory\n"
     ]
    }
   ],
   "source": [
    "!PDK=gf180mcuD /foss/tools/bin/ngspice -b ./sizing_diffpair.spice"
   ]
  },
  {
   "cell_type": "code",
   "execution_count": null,
   "metadata": {},
   "outputs": [],
   "source": []
  }
 ],
 "metadata": {
  "kernelspec": {
   "display_name": "Python 3 (ipykernel)",
   "language": "python",
   "name": "python3"
  },
  "language_info": {
   "codemirror_mode": {
    "name": "ipython",
    "version": 3
   },
   "file_extension": ".py",
   "mimetype": "text/x-python",
   "name": "python",
   "nbconvert_exporter": "python",
   "pygments_lexer": "ipython3",
   "version": "3.11.9"
  }
 },
 "nbformat": 4,
 "nbformat_minor": 4
}
