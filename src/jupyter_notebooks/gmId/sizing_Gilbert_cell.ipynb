{
 "cells": [
  {
   "cell_type": "code",
   "execution_count": 1,
   "metadata": {},
   "outputs": [],
   "source": [
    "import numpy as np\n",
    "import pandas as pd\n",
    "from pygmid import Lookup as lk\n",
    "import scipy.constants as cs"
   ]
  },
  {
   "cell_type": "markdown",
   "metadata": {},
   "source": [
    "![Gilbert cell Topology](img/topology_Gilbert_Cell.png)"
   ]
  },
  {
   "cell_type": "markdown",
   "metadata": {},
   "source": [
    "![diff_pair](img/diff_pair.png)"
   ]
  },
  {
   "cell_type": "markdown",
   "metadata": {},
   "source": [
    "#### Technology data"
   ]
  },
  {
   "cell_type": "code",
   "execution_count": 2,
   "metadata": {},
   "outputs": [],
   "source": [
    "n = lk('./nfet_03v3.mat')\n",
    "p = lk('./pfet_03v3.mat')"
   ]
  },
  {
   "cell_type": "markdown",
   "metadata": {},
   "source": [
    "#### Specifications"
   ]
  },
  {
   "cell_type": "code",
   "execution_count": 3,
   "metadata": {},
   "outputs": [],
   "source": [
    "f_rf = 2.4 * cs.giga\n",
    "f_lo = 2.5 * cs.giga\n",
    "NF = 9 # [dB], baseband integrated from 1K to 100MHz\n",
    "VDD = 3.3 # [V]\n",
    "conversion_gain = 15 # [db], 20log10 (V_out / V_rf)\n",
    "IIP2 = 40 # [dBm]\n",
    "IIP3 = 8 # [dBm], using 2 tones at 2.4 GHz and 2.401 GHz"
   ]
  },
  {
   "cell_type": "markdown",
   "metadata": {},
   "source": [
    "#### Design choices"
   ]
  },
  {
   "cell_type": "code",
   "execution_count": 5,
   "metadata": {},
   "outputs": [],
   "source": [
    "l = 0.28\n",
    "gm_id_dp_rf = np.array([12, 12])\n",
    "gm_id_dp_lo_left = np.array([20, 20])\n",
    "gm_id_dp_lo_right = np.array([20, 20])"
   ]
  },
  {
   "cell_type": "markdown",
   "metadata": {},
   "source": [
    "#### Sizing and benchmarking"
   ]
  },
  {
   "cell_type": "markdown",
   "metadata": {},
   "source": [
    "![IIP3_req](img/IIP3_requirement_formula.png)"
   ]
  },
  {
   "cell_type": "code",
   "execution_count": 6,
   "metadata": {},
   "outputs": [],
   "source": [
    "jd_rf = n.lookup('ID_W', GM_ID=gm_id_dp_rf, L=l)\n"
   ]
  },
  {
   "cell_type": "code",
   "execution_count": null,
   "metadata": {},
   "outputs": [],
   "source": [
    "w_rf = id/jd_rf\n",
    "\n",
    "cgg_w = n.lookup('CGG_W', GM_ID=gm_id_dp_rf, L=l)\n",
    "cgg = w*cgg_w\n",
    "ft = gm/cgg/2/np.pi\n",
    "\n",
    "df = pd.DataFrame([gm_id, id, jd, w, cgg, ft], ['gm_id', 'id', 'jd', 'w', 'cgg', 'ft'], columns=['option1', 'option2', 'option3']); df"
   ]
  },
  {
   "cell_type": "markdown",
   "metadata": {},
   "source": [
    "#### Spice validation"
   ]
  },
  {
   "cell_type": "code",
   "execution_count": 7,
   "metadata": {},
   "outputs": [
    {
     "name": "stdout",
     "output_type": "stream",
     "text": [
      "Overwriting ./sizing_diffpair.spice\n"
     ]
    }
   ],
   "source": [
    "%%writefile ./sizing_diffpair.spice\n",
    "** differential pair sizing example\n",
    "\n",
    "*.lib /foss/pdks/gf180mcuD/libs.tech/ngspice/sm141064.ngspice typical\n",
    "*.inc /foss/pdks/gf180mcuD/libs.tech/ngspice/design.ngspice\n",
    "\n",
    "* updated models that allow finger parameterization\n",
    ".lib ../models_updated_2025.07.19/ngspice/sm141064.ngspice typical\n",
    ".inc ../models_updated_2025.07.19/ngspice/design.ngspice\n",
    "\n",
    ".param lx=0.28e-6 wx=146e-6 nfx=30, idx=1e-3\n",
    "\n",
    "XM1a d g s 0 nfet_03v3 L={lx} W={wx} nf={nfx} ad='int((nf+1)/2) * W/nf * 0.18u' as='int((nf+2)/2) * W/nf * 0.18u' pd='2*int((nf+1)/2) * (W/nf + 0.18u)'\n",
    "+ ps='2*int((nf+2)/2) * (W/nf + 0.18u)' nrd='0.18u / W' nrs='0.18u / W' sa=0 sb=0 sd=0 m=1\n",
    "XM1b d g s 0 nfet_03v3 L={lx} W={wx} nf={nfx} ad='int((nf+1)/2) * W/nf * 0.18u' as='int((nf+2)/2) * W/nf * 0.18u' pd='2*int((nf+1)/2) * (W/nf + 0.18u)'\n",
    "+ ps='2*int((nf+2)/2) * (W/nf + 0.18u)' nrd='0.18u / W' nrs='0.18u / W' sa=0 sb=0 sd=0 m=1\n",
    "vg  g  0  1\n",
    "vd  d  0  2\n",
    "is  s  0  {2*idx}\n",
    "\n",
    ".control\n",
    "  op\n",
    "  show\n",
    "  save @m.xM1a.m0[gm]\n",
    "  save @m.xM1a.m0[cgg]\n",
    "  save @m.xM1a.m0[cgso]\n",
    "  save @m.xM1a.m0[cgdo]\n",
    "\n",
    "  print @m.xM1a.m0[gm]\n",
    "  print @m.xM1a.m0[cgg]\n",
    "  print @m.xM1a.m0[cgso]\n",
    "  print @m.xM1a.m0[cgdo]\n",
    "    \n",
    ".endc\n",
    ".end"
   ]
  },
  {
   "cell_type": "code",
   "execution_count": 8,
   "metadata": {},
   "outputs": [
    {
     "name": "stdout",
     "output_type": "stream",
     "text": [
      "/bin/bash: line 1: /foss/tools/bin/ngspice: No such file or directory\n"
     ]
    }
   ],
   "source": [
    "!PDK=gf180mcuD /foss/tools/bin/ngspice -b ./sizing_diffpair.spice"
   ]
  },
  {
   "cell_type": "code",
   "execution_count": null,
   "metadata": {},
   "outputs": [],
   "source": []
  }
 ],
 "metadata": {
  "kernelspec": {
   "display_name": "Python 3 (ipykernel)",
   "language": "python",
   "name": "python3"
  },
  "language_info": {
   "codemirror_mode": {
    "name": "ipython",
    "version": 3
   },
   "file_extension": ".py",
   "mimetype": "text/x-python",
   "name": "python",
   "nbconvert_exporter": "python",
   "pygments_lexer": "ipython3",
   "version": "3.11.9"
  }
 },
 "nbformat": 4,
 "nbformat_minor": 4
}
