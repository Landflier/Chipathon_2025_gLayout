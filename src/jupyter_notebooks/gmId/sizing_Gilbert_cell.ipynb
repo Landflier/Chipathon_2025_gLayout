{
 "cells": [
  {
   "cell_type": "code",
   "execution_count": 2,
   "metadata": {},
   "outputs": [],
   "source": [
    "import numpy as np\n",
    "import pandas as pd\n",
    "from pygmid import Lookup as lk"
   ]
  },
  {
   "cell_type": "markdown",
   "metadata": {},
   "source": [
    "#### Technology data"
   ]
  },
  {
   "cell_type": "code",
   "execution_count": 9,
   "metadata": {},
   "outputs": [],
   "source": [
    "n = lk('./nfet_03v3.mat')\n",
    "p = lk('./pfet_03v3.mat')"
   ]
  },
  {
   "cell_type": "markdown",
   "metadata": {},
   "source": [
    "#### Specifications"
   ]
  },
  {
   "cell_type": "code",
   "execution_count": 4,
   "metadata": {},
   "outputs": [],
   "source": [
    "gm = 10e-3"
   ]
  },
  {
   "cell_type": "markdown",
   "metadata": {},
   "source": [
    "#### Design choices"
   ]
  },
  {
   "cell_type": "code",
   "execution_count": 5,
   "metadata": {},
   "outputs": [],
   "source": [
    "l = 0.28\n",
    "gm_id = np.array([5, 10, 20])"
   ]
  },
  {
   "cell_type": "markdown",
   "metadata": {},
   "source": [
    "#### Sizing and benchmarking"
   ]
  },
  {
   "cell_type": "code",
   "execution_count": 6,
   "metadata": {},
   "outputs": [
    {
     "data": {
      "text/html": [
       "<div>\n",
       "<style scoped>\n",
       "    .dataframe tbody tr th:only-of-type {\n",
       "        vertical-align: middle;\n",
       "    }\n",
       "\n",
       "    .dataframe tbody tr th {\n",
       "        vertical-align: top;\n",
       "    }\n",
       "\n",
       "    .dataframe thead th {\n",
       "        text-align: right;\n",
       "    }\n",
       "</style>\n",
       "<table border=\"1\" class=\"dataframe\">\n",
       "  <thead>\n",
       "    <tr style=\"text-align: right;\">\n",
       "      <th></th>\n",
       "      <th>option1</th>\n",
       "      <th>option2</th>\n",
       "      <th>option3</th>\n",
       "    </tr>\n",
       "  </thead>\n",
       "  <tbody>\n",
       "    <tr>\n",
       "      <th>gm_id</th>\n",
       "      <td>5.000000e+00</td>\n",
       "      <td>1.000000e+01</td>\n",
       "      <td>2.000000e+01</td>\n",
       "    </tr>\n",
       "    <tr>\n",
       "      <th>id</th>\n",
       "      <td>2.000000e-03</td>\n",
       "      <td>1.000000e-03</td>\n",
       "      <td>5.000000e-04</td>\n",
       "    </tr>\n",
       "    <tr>\n",
       "      <th>jd</th>\n",
       "      <td>2.539270e-05</td>\n",
       "      <td>6.847242e-06</td>\n",
       "      <td>4.903808e-07</td>\n",
       "    </tr>\n",
       "    <tr>\n",
       "      <th>w</th>\n",
       "      <td>7.876281e+01</td>\n",
       "      <td>1.460442e+02</td>\n",
       "      <td>1.019616e+03</td>\n",
       "    </tr>\n",
       "    <tr>\n",
       "      <th>cgg</th>\n",
       "      <td>9.257212e-14</td>\n",
       "      <td>1.603948e-13</td>\n",
       "      <td>9.581458e-13</td>\n",
       "    </tr>\n",
       "    <tr>\n",
       "      <th>ft</th>\n",
       "      <td>1.719253e+10</td>\n",
       "      <td>9.922699e+09</td>\n",
       "      <td>1.661072e+09</td>\n",
       "    </tr>\n",
       "  </tbody>\n",
       "</table>\n",
       "</div>"
      ],
      "text/plain": [
       "            option1       option2       option3\n",
       "gm_id  5.000000e+00  1.000000e+01  2.000000e+01\n",
       "id     2.000000e-03  1.000000e-03  5.000000e-04\n",
       "jd     2.539270e-05  6.847242e-06  4.903808e-07\n",
       "w      7.876281e+01  1.460442e+02  1.019616e+03\n",
       "cgg    9.257212e-14  1.603948e-13  9.581458e-13\n",
       "ft     1.719253e+10  9.922699e+09  1.661072e+09"
      ]
     },
     "execution_count": 6,
     "metadata": {},
     "output_type": "execute_result"
    }
   ],
   "source": [
    "id = gm/gm_id\n",
    "jd = n.lookup('ID_W', GM_ID=gm_id, L=l)\n",
    "w = id/jd\n",
    "\n",
    "cgg_w = n.lookup('CGG_W', GM_ID=gm_id, L=l)\n",
    "cgg = w*cgg_w\n",
    "ft = gm/cgg/2/np.pi\n",
    "\n",
    "df = pd.DataFrame([gm_id, id, jd, w, cgg, ft], ['gm_id', 'id', 'jd', 'w', 'cgg', 'ft'], columns=['option1', 'option2', 'option3']); df"
   ]
  },
  {
   "cell_type": "markdown",
   "metadata": {},
   "source": [
    "#### Spice validation"
   ]
  },
  {
   "cell_type": "code",
   "execution_count": 7,
   "metadata": {},
   "outputs": [
    {
     "name": "stdout",
     "output_type": "stream",
     "text": [
      "Overwriting ./sizing_diffpair.spice\n"
     ]
    }
   ],
   "source": [
    "%%writefile ./sizing_diffpair.spice\n",
    "** differential pair sizing example\n",
    "\n",
    "*.lib /foss/pdks/gf180mcuD/libs.tech/ngspice/sm141064.ngspice typical\n",
    "*.inc /foss/pdks/gf180mcuD/libs.tech/ngspice/design.ngspice\n",
    "\n",
    "* updated models that allow finger parameterization\n",
    ".lib ../models_updated_2025.07.19/ngspice/sm141064.ngspice typical\n",
    ".inc ../models_updated_2025.07.19/ngspice/design.ngspice\n",
    "\n",
    ".param lx=0.28e-6 wx=146e-6 nfx=30, idx=1e-3\n",
    "\n",
    "XM1a d g s 0 nfet_03v3 L={lx} W={wx} nf={nfx} ad='int((nf+1)/2) * W/nf * 0.18u' as='int((nf+2)/2) * W/nf * 0.18u' pd='2*int((nf+1)/2) * (W/nf + 0.18u)'\n",
    "+ ps='2*int((nf+2)/2) * (W/nf + 0.18u)' nrd='0.18u / W' nrs='0.18u / W' sa=0 sb=0 sd=0 m=1\n",
    "XM1b d g s 0 nfet_03v3 L={lx} W={wx} nf={nfx} ad='int((nf+1)/2) * W/nf * 0.18u' as='int((nf+2)/2) * W/nf * 0.18u' pd='2*int((nf+1)/2) * (W/nf + 0.18u)'\n",
    "+ ps='2*int((nf+2)/2) * (W/nf + 0.18u)' nrd='0.18u / W' nrs='0.18u / W' sa=0 sb=0 sd=0 m=1\n",
    "vg  g  0  1\n",
    "vd  d  0  2\n",
    "is  s  0  {2*idx}\n",
    "\n",
    ".control\n",
    "  op\n",
    "  show\n",
    "  save @m.xM1a.m0[gm]\n",
    "  save @m.xM1a.m0[cgg]\n",
    "  save @m.xM1a.m0[cgso]\n",
    "  save @m.xM1a.m0[cgdo]\n",
    "\n",
    "  print @m.xM1a.m0[gm]\n",
    "  print @m.xM1a.m0[cgg]\n",
    "  print @m.xM1a.m0[cgso]\n",
    "  print @m.xM1a.m0[cgdo]\n",
    "    \n",
    ".endc\n",
    ".end"
   ]
  },
  {
   "cell_type": "code",
   "execution_count": 8,
   "metadata": {},
   "outputs": [
    {
     "name": "stdout",
     "output_type": "stream",
     "text": [
      "/bin/bash: line 1: /foss/tools/bin/ngspice: No such file or directory\n"
     ]
    }
   ],
   "source": [
    "!PDK=gf180mcuD /foss/tools/bin/ngspice -b ./sizing_diffpair.spice"
   ]
  },
  {
   "cell_type": "code",
   "execution_count": null,
   "metadata": {},
   "outputs": [],
   "source": []
  }
 ],
 "metadata": {
  "kernelspec": {
   "display_name": "Python 3 (ipykernel)",
   "language": "python",
   "name": "python3"
  },
  "language_info": {
   "codemirror_mode": {
    "name": "ipython",
    "version": 3
   },
   "file_extension": ".py",
   "mimetype": "text/x-python",
   "name": "python",
   "nbconvert_exporter": "python",
   "pygments_lexer": "ipython3",
   "version": "3.11.9"
  }
 },
 "nbformat": 4,
 "nbformat_minor": 4
}
