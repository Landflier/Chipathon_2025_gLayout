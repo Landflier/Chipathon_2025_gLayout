{
 "cells": [
  {
   "cell_type": "code",
   "execution_count": 1,
   "metadata": {},
   "outputs": [],
   "source": [
    "import numpy as np\n",
    "import pandas as pd\n",
    "from pygmid import Lookup as lk\n",
    "import scipy.constants as cs"
   ]
  },
  {
   "cell_type": "markdown",
   "metadata": {},
   "source": [
    "#### Technology data"
   ]
  },
  {
   "cell_type": "code",
   "execution_count": 2,
   "metadata": {},
   "outputs": [],
   "source": [
    "# n = lk('./nfet_03v3_w_2um_nf_6.mat')\n",
    "n = lk('./nfet_03v3.mat')\n",
    "p = lk('./pfet_03v3.mat')"
   ]
  },
  {
   "cell_type": "markdown",
   "metadata": {},
   "source": [
    "# NMOS mirror"
   ]
  },
  {
   "cell_type": "markdown",
   "metadata": {},
   "source": [
    "#### Specifications"
   ]
  },
  {
   "cell_type": "code",
   "execution_count": 38,
   "metadata": {},
   "outputs": [],
   "source": [
    "I_BIAS = 10e-6 # uA\n",
    "I_OUT = 50e-6 #uA"
   ]
  },
  {
   "cell_type": "markdown",
   "metadata": {},
   "source": [
    "#### Design choices"
   ]
  },
  {
   "cell_type": "code",
   "execution_count": 39,
   "metadata": {},
   "outputs": [],
   "source": [
    "l = 1 # um\n",
    "gm_id = 6 # want strong inversion\n",
    "\n",
    "gm = gm_id * I_BIAS"
   ]
  },
  {
   "cell_type": "markdown",
   "metadata": {},
   "source": [
    "#### Sizing and benchmarking"
   ]
  },
  {
   "cell_type": "code",
   "execution_count": 40,
   "metadata": {},
   "outputs": [],
   "source": [
    "jd = n.lookup('ID_W', GM_ID=gm_id, L=l)"
   ]
  },
  {
   "cell_type": "code",
   "execution_count": 41,
   "metadata": {},
   "outputs": [
    {
     "name": "stdout",
     "output_type": "stream",
     "text": [
      "6 6.000000000000001e-05 1e-05 6.6259601091347585e-06 1.5092152435710688 2.9566384563617802 0.9740919002622435\n"
     ]
    }
   ],
   "source": [
    "w = I_BIAS / jd \n",
    "cgg_w = n.lookup('CGG_W', GM_ID=gm_id, L=l)\n",
    "vgs = n.look_upVGS(GM_ID=gm_id, L=l, VDS=1.65, VSB=0)\n",
    "\n",
    "ft = gm/cgg_w/2/np.pi\n",
    "\n",
    "print (gm_id, gm, I_BIAS, jd, w, ft/1e9, vgs)\n"
   ]
  },
  {
   "cell_type": "markdown",
   "metadata": {},
   "source": [
    "\n",
    " its good, check the Local_mirror_nmos_tb.sch\n",
    " - include an image of the circuit\n",
    " - include in the website, comparison of sim vs tb"
   ]
  },
  {
   "cell_type": "markdown",
   "metadata": {},
   "source": [
    "# PMOS mirror"
   ]
  },
  {
   "cell_type": "code",
   "execution_count": 42,
   "metadata": {},
   "outputs": [],
   "source": [
    "I_BIAS = 10e-6 # uA\n",
    "I_OUT = 30e-6 # uA"
   ]
  },
  {
   "cell_type": "markdown",
   "metadata": {},
   "source": [
    "#### Design choices"
   ]
  },
  {
   "cell_type": "code",
   "execution_count": 43,
   "metadata": {},
   "outputs": [],
   "source": [
    "l = 0.4 # short length for smaller power dissipation\n",
    "gm_id = 6 # want strong inversion\n",
    "\n",
    "gm = gm_id * I_BIAS"
   ]
  },
  {
   "cell_type": "markdown",
   "metadata": {},
   "source": [
    "#### Sizing and benchmarking"
   ]
  },
  {
   "cell_type": "code",
   "execution_count": 44,
   "metadata": {},
   "outputs": [],
   "source": [
    "jd = p.lookup('ID_W', GM_ID=gm_id, L=l)"
   ]
  },
  {
   "cell_type": "code",
   "execution_count": 45,
   "metadata": {},
   "outputs": [
    {
     "name": "stdout",
     "output_type": "stream",
     "text": [
      "6 6.000000000000001e-05 1e-05 4.656350827306024e-06 2.1476045020829315 5.890819645034016 1.0647032735774347\n"
     ]
    }
   ],
   "source": [
    "w = I_BIAS / jd \n",
    "cgg_w = p.lookup('CGG_W', GM_ID=gm_id, L=l)\n",
    "vgs = p.look_upVGS(GM_ID=gm_id, L=l, VDS=1.65, VSB=0)\n",
    "\n",
    "ft = gm/cgg_w/2/np.pi\n",
    "\n",
    "print (gm_id, gm, I_BIAS, jd, w, ft/1e9, vgs)"
   ]
  },
  {
   "cell_type": "code",
   "execution_count": null,
   "metadata": {},
   "outputs": [],
   "source": []
  }
 ],
 "metadata": {
  "kernelspec": {
   "display_name": "Python 3 (ipykernel)",
   "language": "python",
   "name": "python3"
  },
  "language_info": {
   "codemirror_mode": {
    "name": "ipython",
    "version": 3
   },
   "file_extension": ".py",
   "mimetype": "text/x-python",
   "name": "python",
   "nbconvert_exporter": "python",
   "pygments_lexer": "ipython3",
   "version": "3.11.9"
  }
 },
 "nbformat": 4,
 "nbformat_minor": 4
}
