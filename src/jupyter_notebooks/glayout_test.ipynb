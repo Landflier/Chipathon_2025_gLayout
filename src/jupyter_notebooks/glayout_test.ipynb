{
 "cells": [
  {
   "cell_type": "code",
   "execution_count": null,
   "id": "f7dac8ed",
   "metadata": {},
   "outputs": [],
   "source": [
    "from glayout import sky130, gf180, nmos ,pmos, via_stack"
   ]
  },
  {
   "cell_type": "code",
   "execution_count": null,
   "id": "48773b36",
   "metadata": {},
   "outputs": [],
   "source": [
    "# Generate a via stack\n",
    "#met2 is the bottom layer. met3 is the top layer.\n",
    "via = via_stack(sky130, \"met2\", \"met3\", centered=True) "
   ]
  },
  {
   "cell_type": "code",
   "execution_count": null,
   "id": "8a50b4b5",
   "metadata": {},
   "outputs": [],
   "source": [
    "# Generate a transistor\n",
    "transistor = nmos(sky130, width=1.0, length=0.15, fingers=2)"
   ]
  },
  {
   "cell_type": "code",
   "execution_count": null,
   "id": "5e14c81c",
   "metadata": {},
   "outputs": [],
   "source": [
    "# Write to GDS\n",
    "via.write_gds(\"via.gds\")\n",
    "transistor.write_gds(\"transistor.gds\")"
   ]
  }
 ],
 "metadata": {
  "jupytext": {
   "cell_metadata_filter": "-all",
   "main_language": "python",
   "notebook_metadata_filter": "-all"
  }
 },
 "nbformat": 4,
 "nbformat_minor": 5
}
